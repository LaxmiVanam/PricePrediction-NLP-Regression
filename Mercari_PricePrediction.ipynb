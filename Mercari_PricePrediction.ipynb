{
 "cells": [
  {
   "cell_type": "markdown",
   "metadata": {},
   "source": [
    "## Problem description:\n",
    "\n",
    "**Goal: To automatically suggest product prices to online sellers who upload products to the website**\n",
    "\n",
    "This problem is presented by Mercari, Japan’s biggest community-powered shopping app, to predict the prices of the products uploaded to their website based on the described features. They’d like to offer pricing suggestions to sellers, but this is tough because their sellers are enabled to put just about anything, or any bundle of things, on Mercari's marketplace.\n",
    "    \n",
    "   Source:  https://www.kaggle.com/c/mercari-price-suggestion-challenge\n",
    "   \n",
    "Keywords: Pricing recommendations/ Regression/ NLP/ BagOfWords etc.   "
   ]
  },
  {
   "cell_type": "markdown",
   "metadata": {},
   "source": [
    "<img src=\"https://www.mercari.com/assets/img/help_center/us/ogp.png\"/>"
   ]
  },
  {
   "cell_type": "markdown",
   "metadata": {},
   "source": [
    "### Dataset Features\n",
    "\n",
    "- **ID**: the id of the listing\n",
    "- **Name:** the title of the listing\n",
    "- **Item Condition:** the condition of the items provided by the seller\n",
    "- **Category Name:** category of the listing\n",
    "- **Brand Name:** brand of the listing\n",
    "- **Shipping:** whether or not shipping cost was provided\n",
    "- **Item Description:** the full description of the item\n",
    "- **Price:** the price that the item was sold for. This is the target variable that you will predict. The unit is USD.\n"
   ]
  },
  {
   "cell_type": "markdown",
   "metadata": {},
   "source": [
    "# Table of Content\n",
    "\n",
    "-  Define the Problem\n",
    "\n",
    "-  Descriptive Statistics\n",
    "\n",
    "-  Exploratory Data Analysis\n",
    "\n",
    "-  Text Processing\n",
    "\n",
    "-  Feature Extraction with Text"
   ]
  },
  {
   "cell_type": "markdown",
   "metadata": {},
   "source": [
    "### Define the Problem\n",
    "\n",
    "**A. Define the objective in business terms:** The objective is to come up with the right pricing algorithm that can we can use as a pricing recommendation to the users. \n",
    "\n",
    "**B. How will your solution be used?:** Allowing the users to see a suggest price before purchasing or selling will hopefully allow more transaction within Mercari's business. \n",
    "\n",
    "**C. How should you frame this problem?:** This problem can be solved using a supervised learning approach, and possible some unsupervised learning methods as well for clustering analysis. \n",
    "\n",
    "**D. How should performance be measured?:** Since its a regression problem, the evaluation metric that should be used is RMSE (Root Mean Squared Error). But in this case for the competition, we'll be using the RMSLE; which puts less penalty on large errors and focuses more on the smaller errors (since our main distribution in price is centered at around $10)\n",
    "\n",
    "**E. Are there any other data sets that you could use?:** To get a more accurate understanding and prediction for this problem, a potential dataset that we can gather would be more about the user. Features such as user location, user gender, and seasonality. "
   ]
  },
  {
   "cell_type": "markdown",
   "metadata": {},
   "source": [
    "#### Importing libraries"
   ]
  },
  {
   "cell_type": "code",
   "execution_count": 1,
   "metadata": {},
   "outputs": [],
   "source": [
    "import time\n",
    "import numpy as np\n",
    "import pandas as pd\n",
    "import matplotlib.pyplot as plt\n",
    "import seaborn as sns\n",
    "from scipy.sparse import csr_matrix, hstack\n",
    "from sklearn.feature_extraction.text import CountVectorizer, TfidfVectorizer\n",
    "from sklearn.preprocessing import LabelBinarizer\n",
    "\n",
    "import warnings\n",
    "warnings.filterwarnings('ignore')\n",
    "\n",
    "import gc"
   ]
  },
  {
   "cell_type": "markdown",
   "metadata": {},
   "source": [
    "Importing train and test data:"
   ]
  },
  {
   "cell_type": "code",
   "execution_count": 2,
   "metadata": {},
   "outputs": [
    {
     "data": {
      "text/html": [
       "<div>\n",
       "<style scoped>\n",
       "    .dataframe tbody tr th:only-of-type {\n",
       "        vertical-align: middle;\n",
       "    }\n",
       "\n",
       "    .dataframe tbody tr th {\n",
       "        vertical-align: top;\n",
       "    }\n",
       "\n",
       "    .dataframe thead th {\n",
       "        text-align: right;\n",
       "    }\n",
       "</style>\n",
       "<table border=\"1\" class=\"dataframe\">\n",
       "  <thead>\n",
       "    <tr style=\"text-align: right;\">\n",
       "      <th></th>\n",
       "      <th>train_id</th>\n",
       "      <th>name</th>\n",
       "      <th>item_condition_id</th>\n",
       "      <th>category_name</th>\n",
       "      <th>brand_name</th>\n",
       "      <th>price</th>\n",
       "      <th>shipping</th>\n",
       "      <th>item_description</th>\n",
       "    </tr>\n",
       "  </thead>\n",
       "  <tbody>\n",
       "    <tr>\n",
       "      <th>0</th>\n",
       "      <td>0</td>\n",
       "      <td>MLB Cincinnati Reds T Shirt Size XL</td>\n",
       "      <td>3</td>\n",
       "      <td>Men/Tops/T-shirts</td>\n",
       "      <td>NaN</td>\n",
       "      <td>10.0</td>\n",
       "      <td>1</td>\n",
       "      <td>No description yet</td>\n",
       "    </tr>\n",
       "    <tr>\n",
       "      <th>1</th>\n",
       "      <td>1</td>\n",
       "      <td>Razer BlackWidow Chroma Keyboard</td>\n",
       "      <td>3</td>\n",
       "      <td>Electronics/Computers &amp; Tablets/Components &amp; P...</td>\n",
       "      <td>Razer</td>\n",
       "      <td>52.0</td>\n",
       "      <td>0</td>\n",
       "      <td>This keyboard is in great condition and works ...</td>\n",
       "    </tr>\n",
       "    <tr>\n",
       "      <th>2</th>\n",
       "      <td>2</td>\n",
       "      <td>AVA-VIV Blouse</td>\n",
       "      <td>1</td>\n",
       "      <td>Women/Tops &amp; Blouses/Blouse</td>\n",
       "      <td>Target</td>\n",
       "      <td>10.0</td>\n",
       "      <td>1</td>\n",
       "      <td>Adorable top with a hint of lace and a key hol...</td>\n",
       "    </tr>\n",
       "    <tr>\n",
       "      <th>3</th>\n",
       "      <td>3</td>\n",
       "      <td>Leather Horse Statues</td>\n",
       "      <td>1</td>\n",
       "      <td>Home/Home Décor/Home Décor Accents</td>\n",
       "      <td>NaN</td>\n",
       "      <td>35.0</td>\n",
       "      <td>1</td>\n",
       "      <td>New with tags. Leather horses. Retail for [rm]...</td>\n",
       "    </tr>\n",
       "    <tr>\n",
       "      <th>4</th>\n",
       "      <td>4</td>\n",
       "      <td>24K GOLD plated rose</td>\n",
       "      <td>1</td>\n",
       "      <td>Women/Jewelry/Necklaces</td>\n",
       "      <td>NaN</td>\n",
       "      <td>44.0</td>\n",
       "      <td>0</td>\n",
       "      <td>Complete with certificate of authenticity</td>\n",
       "    </tr>\n",
       "  </tbody>\n",
       "</table>\n",
       "</div>"
      ],
      "text/plain": [
       "   train_id                                 name  item_condition_id  \\\n",
       "0         0  MLB Cincinnati Reds T Shirt Size XL                  3   \n",
       "1         1     Razer BlackWidow Chroma Keyboard                  3   \n",
       "2         2                       AVA-VIV Blouse                  1   \n",
       "3         3                Leather Horse Statues                  1   \n",
       "4         4                 24K GOLD plated rose                  1   \n",
       "\n",
       "                                       category_name brand_name  price  \\\n",
       "0                                  Men/Tops/T-shirts        NaN   10.0   \n",
       "1  Electronics/Computers & Tablets/Components & P...      Razer   52.0   \n",
       "2                        Women/Tops & Blouses/Blouse     Target   10.0   \n",
       "3                 Home/Home Décor/Home Décor Accents        NaN   35.0   \n",
       "4                            Women/Jewelry/Necklaces        NaN   44.0   \n",
       "\n",
       "   shipping                                   item_description  \n",
       "0         1                                 No description yet  \n",
       "1         0  This keyboard is in great condition and works ...  \n",
       "2         1  Adorable top with a hint of lace and a key hol...  \n",
       "3         1  New with tags. Leather horses. Retail for [rm]...  \n",
       "4         0          Complete with certificate of authenticity  "
      ]
     },
     "execution_count": 2,
     "metadata": {},
     "output_type": "execute_result"
    }
   ],
   "source": [
    "df_train = pd.read_csv('C:/Users/Laxmi/Documents/Laxmi/DS/Mercari/train.tsv', sep = '\\t')\n",
    "df_test = pd.read_csv('C:/Users/Laxmi/Documents/Laxmi/DS/Mercari/test.tsv', sep = '\\t')\n",
    "df_train.head()"
   ]
  },
  {
   "cell_type": "code",
   "execution_count": 3,
   "metadata": {},
   "outputs": [
    {
     "name": "stdout",
     "output_type": "stream",
     "text": [
      "Size of the training dataset is (1482535, 8)\n",
      "Size of the test dataset is (693359, 7)\n"
     ]
    }
   ],
   "source": [
    "print(\"Size of the training dataset is\", df_train.shape)\n",
    "print(\"Size of the test dataset is\", df_test.shape)"
   ]
  },
  {
   "cell_type": "code",
   "execution_count": 4,
   "metadata": {},
   "outputs": [
    {
     "data": {
      "text/plain": [
       "train_id               int64\n",
       "name                  object\n",
       "item_condition_id      int64\n",
       "category_name         object\n",
       "brand_name            object\n",
       "price                float64\n",
       "shipping               int64\n",
       "item_description      object\n",
       "dtype: object"
      ]
     },
     "execution_count": 4,
     "metadata": {},
     "output_type": "execute_result"
    }
   ],
   "source": [
    "#printing column types\n",
    "df_train.dtypes"
   ]
  },
  {
   "cell_type": "markdown",
   "metadata": {},
   "source": [
    "### Summary Statistics:"
   ]
  },
  {
   "cell_type": "code",
   "execution_count": 5,
   "metadata": {},
   "outputs": [
    {
     "data": {
      "text/html": [
       "<div>\n",
       "<style scoped>\n",
       "    .dataframe tbody tr th:only-of-type {\n",
       "        vertical-align: middle;\n",
       "    }\n",
       "\n",
       "    .dataframe tbody tr th {\n",
       "        vertical-align: top;\n",
       "    }\n",
       "\n",
       "    .dataframe thead th {\n",
       "        text-align: right;\n",
       "    }\n",
       "</style>\n",
       "<table border=\"1\" class=\"dataframe\">\n",
       "  <thead>\n",
       "    <tr style=\"text-align: right;\">\n",
       "      <th></th>\n",
       "      <th>count</th>\n",
       "      <th>unique</th>\n",
       "      <th>top</th>\n",
       "      <th>freq</th>\n",
       "    </tr>\n",
       "  </thead>\n",
       "  <tbody>\n",
       "    <tr>\n",
       "      <th>train_id</th>\n",
       "      <td>1482535</td>\n",
       "      <td>1482535</td>\n",
       "      <td>1482534</td>\n",
       "      <td>1</td>\n",
       "    </tr>\n",
       "    <tr>\n",
       "      <th>name</th>\n",
       "      <td>1482535</td>\n",
       "      <td>1225273</td>\n",
       "      <td>Bundle</td>\n",
       "      <td>2232</td>\n",
       "    </tr>\n",
       "    <tr>\n",
       "      <th>item_condition_id</th>\n",
       "      <td>1482535</td>\n",
       "      <td>5</td>\n",
       "      <td>1</td>\n",
       "      <td>640549</td>\n",
       "    </tr>\n",
       "    <tr>\n",
       "      <th>category_name</th>\n",
       "      <td>1476208</td>\n",
       "      <td>1287</td>\n",
       "      <td>Women/Athletic Apparel/Pants, Tights, Leggings</td>\n",
       "      <td>60177</td>\n",
       "    </tr>\n",
       "    <tr>\n",
       "      <th>brand_name</th>\n",
       "      <td>849853</td>\n",
       "      <td>4809</td>\n",
       "      <td>PINK</td>\n",
       "      <td>54088</td>\n",
       "    </tr>\n",
       "    <tr>\n",
       "      <th>price</th>\n",
       "      <td>1.48254e+06</td>\n",
       "      <td>828</td>\n",
       "      <td>10</td>\n",
       "      <td>99416</td>\n",
       "    </tr>\n",
       "    <tr>\n",
       "      <th>shipping</th>\n",
       "      <td>1482535</td>\n",
       "      <td>2</td>\n",
       "      <td>0</td>\n",
       "      <td>819435</td>\n",
       "    </tr>\n",
       "    <tr>\n",
       "      <th>item_description</th>\n",
       "      <td>1482531</td>\n",
       "      <td>1281426</td>\n",
       "      <td>No description yet</td>\n",
       "      <td>82489</td>\n",
       "    </tr>\n",
       "  </tbody>\n",
       "</table>\n",
       "</div>"
      ],
      "text/plain": [
       "                         count   unique  \\\n",
       "train_id               1482535  1482535   \n",
       "name                   1482535  1225273   \n",
       "item_condition_id      1482535        5   \n",
       "category_name          1476208     1287   \n",
       "brand_name              849853     4809   \n",
       "price              1.48254e+06      828   \n",
       "shipping               1482535        2   \n",
       "item_description       1482531  1281426   \n",
       "\n",
       "                                                              top    freq  \n",
       "train_id                                                  1482534       1  \n",
       "name                                                       Bundle    2232  \n",
       "item_condition_id                                               1  640549  \n",
       "category_name      Women/Athletic Apparel/Pants, Tights, Leggings   60177  \n",
       "brand_name                                                   PINK   54088  \n",
       "price                                                          10   99416  \n",
       "shipping                                                        0  819435  \n",
       "item_description                               No description yet   82489  "
      ]
     },
     "execution_count": 5,
     "metadata": {},
     "output_type": "execute_result"
    }
   ],
   "source": [
    "#printing column types\n",
    "df_train.astype('object').describe().transpose()"
   ]
  },
  {
   "cell_type": "code",
   "execution_count": 6,
   "metadata": {},
   "outputs": [
    {
     "data": {
      "text/html": [
       "<div>\n",
       "<style scoped>\n",
       "    .dataframe tbody tr th:only-of-type {\n",
       "        vertical-align: middle;\n",
       "    }\n",
       "\n",
       "    .dataframe tbody tr th {\n",
       "        vertical-align: top;\n",
       "    }\n",
       "\n",
       "    .dataframe thead th {\n",
       "        text-align: right;\n",
       "    }\n",
       "</style>\n",
       "<table border=\"1\" class=\"dataframe\">\n",
       "  <thead>\n",
       "    <tr style=\"text-align: right;\">\n",
       "      <th></th>\n",
       "      <th>count</th>\n",
       "      <th>unique</th>\n",
       "      <th>top</th>\n",
       "      <th>freq</th>\n",
       "    </tr>\n",
       "  </thead>\n",
       "  <tbody>\n",
       "    <tr>\n",
       "      <th>test_id</th>\n",
       "      <td>693359</td>\n",
       "      <td>693359</td>\n",
       "      <td>693358</td>\n",
       "      <td>1</td>\n",
       "    </tr>\n",
       "    <tr>\n",
       "      <th>name</th>\n",
       "      <td>693359</td>\n",
       "      <td>601117</td>\n",
       "      <td>Bundle</td>\n",
       "      <td>1111</td>\n",
       "    </tr>\n",
       "    <tr>\n",
       "      <th>item_condition_id</th>\n",
       "      <td>693359</td>\n",
       "      <td>5</td>\n",
       "      <td>1</td>\n",
       "      <td>300081</td>\n",
       "    </tr>\n",
       "    <tr>\n",
       "      <th>category_name</th>\n",
       "      <td>690301</td>\n",
       "      <td>1223</td>\n",
       "      <td>Women/Athletic Apparel/Pants, Tights, Leggings</td>\n",
       "      <td>27900</td>\n",
       "    </tr>\n",
       "    <tr>\n",
       "      <th>brand_name</th>\n",
       "      <td>397834</td>\n",
       "      <td>3900</td>\n",
       "      <td>Nike</td>\n",
       "      <td>25234</td>\n",
       "    </tr>\n",
       "    <tr>\n",
       "      <th>shipping</th>\n",
       "      <td>693359</td>\n",
       "      <td>2</td>\n",
       "      <td>0</td>\n",
       "      <td>382929</td>\n",
       "    </tr>\n",
       "    <tr>\n",
       "      <th>item_description</th>\n",
       "      <td>693359</td>\n",
       "      <td>609555</td>\n",
       "      <td>No description yet</td>\n",
       "      <td>38503</td>\n",
       "    </tr>\n",
       "  </tbody>\n",
       "</table>\n",
       "</div>"
      ],
      "text/plain": [
       "                    count  unique  \\\n",
       "test_id            693359  693359   \n",
       "name               693359  601117   \n",
       "item_condition_id  693359       5   \n",
       "category_name      690301    1223   \n",
       "brand_name         397834    3900   \n",
       "shipping           693359       2   \n",
       "item_description   693359  609555   \n",
       "\n",
       "                                                              top    freq  \n",
       "test_id                                                    693358       1  \n",
       "name                                                       Bundle    1111  \n",
       "item_condition_id                                               1  300081  \n",
       "category_name      Women/Athletic Apparel/Pants, Tights, Leggings   27900  \n",
       "brand_name                                                   Nike   25234  \n",
       "shipping                                                        0  382929  \n",
       "item_description                               No description yet   38503  "
      ]
     },
     "execution_count": 6,
     "metadata": {},
     "output_type": "execute_result"
    }
   ],
   "source": [
    "df_test.astype('object').describe().transpose()"
   ]
  },
  {
   "cell_type": "markdown",
   "metadata": {},
   "source": [
    "#### From the training data, we can see that:\n",
    "    We can see that most of the items are priced at $10.\n",
    "    There are about 82489 ites without description.\n",
    "    There are about 4809 unique brands and 1287 unique categories\n",
    "    Majority of the items are Women's Brand."
   ]
  },
  {
   "cell_type": "markdown",
   "metadata": {},
   "source": [
    "### Check for missing values and impute if needed:"
   ]
  },
  {
   "cell_type": "code",
   "execution_count": 7,
   "metadata": {},
   "outputs": [
    {
     "data": {
      "text/plain": [
       "train_id                  0\n",
       "name                      0\n",
       "item_condition_id         0\n",
       "category_name          6327\n",
       "brand_name           632682\n",
       "price                     0\n",
       "shipping                  0\n",
       "item_description          4\n",
       "dtype: int64"
      ]
     },
     "execution_count": 7,
     "metadata": {},
     "output_type": "execute_result"
    }
   ],
   "source": [
    "df_train.isnull().sum()"
   ]
  },
  {
   "cell_type": "code",
   "execution_count": 8,
   "metadata": {},
   "outputs": [],
   "source": [
    "# Creating a function to impute missing values\n",
    "def fill_missing_value(data):\n",
    "    data['category_name'].fillna(value = 'Other', inplace=True)\n",
    "    data['brand_name'].fillna(value = 'uknown', inplace=True)\n",
    "    data['item_description'].fillna(value = 'No description yet', inplace=True)\n",
    "    \n",
    "    return data"
   ]
  },
  {
   "cell_type": "code",
   "execution_count": 9,
   "metadata": {},
   "outputs": [
    {
     "data": {
      "text/plain": [
       "train_id             0\n",
       "name                 0\n",
       "item_condition_id    0\n",
       "category_name        0\n",
       "brand_name           0\n",
       "price                0\n",
       "shipping             0\n",
       "item_description     0\n",
       "dtype: int64"
      ]
     },
     "execution_count": 9,
     "metadata": {},
     "output_type": "execute_result"
    }
   ],
   "source": [
    "df_train = fill_missing_value(df_train)\n",
    "df_train.isnull().sum()"
   ]
  },
  {
   "cell_type": "markdown",
   "metadata": {},
   "source": [
    "# Exploratory Data Analysis"
   ]
  },
  {
   "cell_type": "markdown",
   "metadata": {},
   "source": [
    "#### Price distribution:"
   ]
  },
  {
   "cell_type": "code",
   "execution_count": 10,
   "metadata": {},
   "outputs": [
    {
     "data": {
      "text/plain": [
       "count    1.482535e+06\n",
       "mean     2.673752e+01\n",
       "std      3.858607e+01\n",
       "min      0.000000e+00\n",
       "25%      1.000000e+01\n",
       "50%      1.700000e+01\n",
       "75%      2.900000e+01\n",
       "max      2.009000e+03\n",
       "Name: price, dtype: float64"
      ]
     },
     "execution_count": 10,
     "metadata": {},
     "output_type": "execute_result"
    }
   ],
   "source": [
    "df_train['price'].describe()"
   ]
  },
  {
   "cell_type": "markdown",
   "metadata": {},
   "source": [
    "**Summary:**\n",
    "- Surprisingly we see that the minimum price is **0 Dollars**. We can ignore these records later as they may be exceptions.\n",
    "- The mean price in the dataset is **26 Dollars**\n",
    "- The median price in the dataset is **17 Dollars**\n",
    "- The max price in the dataset is **2000 Dollars**\n",
    "- Most item prices are at about **10 Dollars**"
   ]
  },
  {
   "cell_type": "code",
   "execution_count": 11,
   "metadata": {},
   "outputs": [
    {
     "data": {
      "image/png": "[encoded data removed]",
      "text/plain": [
       "<Figure size 432x288 with 1 Axes>"
      ]
     },
     "metadata": {
      "needs_background": "light"
     },
     "output_type": "display_data"
    }
   ],
   "source": [
    "# Plot Price Distribution\n",
    "df_train['price'].plot.hist()\n",
    "plt.xlabel('price', fontsize=12)\n",
    "plt.title('Price Distribution', fontsize=12)\n",
    "\n",
    "plt.show()"
   ]
  },
  {
   "cell_type": "markdown",
   "metadata": {},
   "source": [
    "**Taking log(price):** \n",
    "\n",
    "Generally, the Root Mean Squared Error (RMSE) metric is used for regression tasks. But as price followed a long-tailed distribution (50% of the products were under $10), in order to make errors on low price product more relevant than for higher prices, the metric chosen for competition evaluation was Root Mean Squared Logarithmic Error (RMSLE). Thus, I applied the log transformation to the price target variable, to make this assumption available for model training.\n",
    "\n",
    "\n",
    "**Example:**\n",
    "\n",
    "**Step 1 Log Transformation:** np.log(train['price']+1)\n",
    "\n",
    "**Step 2 Predict with Log Transformation:** test_pred = model.predict(X_test)\n",
    "\n",
    "**Step 3 Convert back to original value by Exponential Transformation** Y_test = np.expm1(test_pred)"
   ]
  },
  {
   "cell_type": "code",
   "execution_count": 12,
   "metadata": {},
   "outputs": [
    {
     "data": {
      "image/png": "[encoded data removed]",
      "text/plain": [
       "<Figure size 432x288 with 1 Axes>"
      ]
     },
     "metadata": {
      "needs_background": "light"
     },
     "output_type": "display_data"
    }
   ],
   "source": [
    "# Plot Price Distribution\n",
    "np.log(df_train['price']+1).plot.hist()\n",
    "plt.xlabel('log(price+1)', fontsize=12)\n",
    "plt.title('Log Price Distribution', fontsize=12)\n",
    "\n",
    "plt.show()"
   ]
  },
  {
   "cell_type": "markdown",
   "metadata": {},
   "source": [
    "#### Checking items with zero price and removing them:"
   ]
  },
  {
   "cell_type": "code",
   "execution_count": 13,
   "metadata": {},
   "outputs": [
    {
     "data": {
      "text/plain": [
       "(874, 8)"
      ]
     },
     "execution_count": 13,
     "metadata": {},
     "output_type": "execute_result"
    }
   ],
   "source": [
    "df_train[df_train.price==0].shape"
   ]
  },
  {
   "cell_type": "code",
   "execution_count": 14,
   "metadata": {},
   "outputs": [
    {
     "data": {
      "text/plain": [
       "(1481661, 8)"
      ]
     },
     "execution_count": 14,
     "metadata": {},
     "output_type": "execute_result"
    }
   ],
   "source": [
    "df_train = df_train[df_train['price'] !=0]\n",
    "df_train.shape"
   ]
  },
  {
   "cell_type": "markdown",
   "metadata": {},
   "source": [
    "#### Shipping distribution"
   ]
  },
  {
   "cell_type": "code",
   "execution_count": 15,
   "metadata": {},
   "outputs": [
    {
     "data": {
      "text/plain": [
       "0    0.552674\n",
       "1    0.447326\n",
       "Name: shipping, dtype: float64"
      ]
     },
     "execution_count": 15,
     "metadata": {},
     "output_type": "execute_result"
    }
   ],
   "source": [
    "df_train['shipping'].value_counts() / len(df_train)"
   ]
  },
  {
   "cell_type": "markdown",
   "metadata": {},
   "source": [
    "Price distribution by Shipping type:"
   ]
  },
  {
   "cell_type": "code",
   "execution_count": 16,
   "metadata": {},
   "outputs": [
    {
     "data": {
      "image/png": "[encoded data removed]",
      "text/plain": [
       "<Figure size 1296x576 with 1 Axes>"
      ]
     },
     "metadata": {
      "needs_background": "light"
     },
     "output_type": "display_data"
    }
   ],
   "source": [
    "shipping_by_buyer = df_train[df_train['shipping'] == 0]['price']\n",
    "shipping_by_seller = df_train[df_train['shipping'] == 1]['price']\n",
    "\n",
    "fig, ax = plt.subplots(figsize=(18,8))\n",
    "\n",
    "ax.hist(shipping_by_seller, color='blue', alpha=1.0, bins=50, range = [0, 100],label='Price when Seller pays Shipping')\n",
    "ax.hist(shipping_by_buyer, color='red', alpha=0.7, bins=50, range = [0, 100],label='Price when Buyer pays Shipping')\n",
    "\n",
    "plt.xlabel('price', fontsize=12)\n",
    "plt.ylabel('frequency', fontsize=12)\n",
    "plt.title('Price Distribution by Shipping Type', fontsize=15)\n",
    "plt.tick_params(labelsize=12)\n",
    "plt.legend()\n",
    "plt.show()"
   ]
  },
  {
   "cell_type": "code",
   "execution_count": 17,
   "metadata": {},
   "outputs": [
    {
     "name": "stdout",
     "output_type": "stream",
     "text": [
      "The average price is 22.58 if seller pays shipping\n",
      "The average price is 30.13 if buyer pays shipping\n"
     ]
    }
   ],
   "source": [
    "print('The average price is {}'.format(round(shipping_by_seller.mean(), 2)), 'if seller pays shipping');\n",
    "print('The average price is {}'.format(round(shipping_by_buyer.mean(), 2)), 'if buyer pays shipping')"
   ]
  },
  {
   "cell_type": "markdown",
   "metadata": {},
   "source": [
    "This looks counter intuitive as we expect the average price to be higher of the buyer pays shipping and to be less when the seller pays shipping. But the numbers above contradict our assumption. So, further investigation on this helps."
   ]
  },
  {
   "cell_type": "markdown",
   "metadata": {},
   "source": [
    "#### Category distribution"
   ]
  },
  {
   "cell_type": "markdown",
   "metadata": {},
   "source": [
    "Top 5 category labels:"
   ]
  },
  {
   "cell_type": "code",
   "execution_count": 73,
   "metadata": {},
   "outputs": [
    {
     "data": {
      "text/plain": [
       "Women/Athletic Apparel/Pants, Tights, Leggings    60152\n",
       "Women/Tops & Blouses/T-Shirts                     46349\n",
       "Beauty/Makeup/Face                                34320\n",
       "Beauty/Makeup/Lips                                29901\n",
       "Electronics/Video Games & Consoles/Games          26547\n",
       "Name: category_name, dtype: int64"
      ]
     },
     "execution_count": 73,
     "metadata": {},
     "output_type": "execute_result"
    }
   ],
   "source": [
    "df_train['category_name'].value_counts()[:5]"
   ]
  },
  {
   "cell_type": "markdown",
   "metadata": {},
   "source": [
    "Category can be divided into 3 columns, main category, sub category1 and sub category2 based on the data."
   ]
  },
  {
   "cell_type": "code",
   "execution_count": 18,
   "metadata": {},
   "outputs": [],
   "source": [
    "# Feature Engineering (1): Creating new Category Features\n",
    "def transform_category_name(category_name):\n",
    "    try:\n",
    "        main, sub1, sub2= category_name.split('/')\n",
    "        return main, sub1, sub2\n",
    "    except:\n",
    "        return 'Other','Other','Other'"
   ]
  },
  {
   "cell_type": "code",
   "execution_count": 19,
   "metadata": {},
   "outputs": [
    {
     "data": {
      "text/html": [
       "<div>\n",
       "<style scoped>\n",
       "    .dataframe tbody tr th:only-of-type {\n",
       "        vertical-align: middle;\n",
       "    }\n",
       "\n",
       "    .dataframe tbody tr th {\n",
       "        vertical-align: top;\n",
       "    }\n",
       "\n",
       "    .dataframe thead th {\n",
       "        text-align: right;\n",
       "    }\n",
       "</style>\n",
       "<table border=\"1\" class=\"dataframe\">\n",
       "  <thead>\n",
       "    <tr style=\"text-align: right;\">\n",
       "      <th></th>\n",
       "      <th>category_main</th>\n",
       "      <th>category_sub1</th>\n",
       "      <th>category_sub2</th>\n",
       "      <th>price</th>\n",
       "    </tr>\n",
       "  </thead>\n",
       "  <tbody>\n",
       "    <tr>\n",
       "      <th>0</th>\n",
       "      <td>Men</td>\n",
       "      <td>Tops</td>\n",
       "      <td>T-shirts</td>\n",
       "      <td>10.0</td>\n",
       "    </tr>\n",
       "    <tr>\n",
       "      <th>1</th>\n",
       "      <td>Electronics</td>\n",
       "      <td>Computers &amp; Tablets</td>\n",
       "      <td>Components &amp; Parts</td>\n",
       "      <td>52.0</td>\n",
       "    </tr>\n",
       "    <tr>\n",
       "      <th>2</th>\n",
       "      <td>Women</td>\n",
       "      <td>Tops &amp; Blouses</td>\n",
       "      <td>Blouse</td>\n",
       "      <td>10.0</td>\n",
       "    </tr>\n",
       "    <tr>\n",
       "      <th>3</th>\n",
       "      <td>Home</td>\n",
       "      <td>Home Décor</td>\n",
       "      <td>Home Décor Accents</td>\n",
       "      <td>35.0</td>\n",
       "    </tr>\n",
       "    <tr>\n",
       "      <th>4</th>\n",
       "      <td>Women</td>\n",
       "      <td>Jewelry</td>\n",
       "      <td>Necklaces</td>\n",
       "      <td>44.0</td>\n",
       "    </tr>\n",
       "  </tbody>\n",
       "</table>\n",
       "</div>"
      ],
      "text/plain": [
       "  category_main        category_sub1       category_sub2  price\n",
       "0           Men                 Tops            T-shirts   10.0\n",
       "1   Electronics  Computers & Tablets  Components & Parts   52.0\n",
       "2         Women       Tops & Blouses              Blouse   10.0\n",
       "3          Home           Home Décor  Home Décor Accents   35.0\n",
       "4         Women              Jewelry           Necklaces   44.0"
      ]
     },
     "execution_count": 19,
     "metadata": {},
     "output_type": "execute_result"
    }
   ],
   "source": [
    "df_train['category_main'], df_train['category_sub1'], df_train['category_sub2'] = zip(*df_train['category_name'].apply(transform_category_name))\n",
    "\n",
    "cat_train = df_train[['category_main','category_sub1','category_sub2', 'price']]\n",
    "\n",
    "cat_train.head()"
   ]
  },
  {
   "cell_type": "code",
   "execution_count": 20,
   "metadata": {},
   "outputs": [
    {
     "name": "stdout",
     "output_type": "stream",
     "text": [
      "There are 10 unique main categories.\n",
      "There are 113 unique sub categories2\n",
      "There are 864 unique sub categories2\n"
     ]
    }
   ],
   "source": [
    "print(\"There are %d unique main categories.\" % df_train['category_main'].nunique())\n",
    "print(\"There are %d unique sub categories2\" % df_train['category_sub1'].nunique())\n",
    "print(\"There are %d unique sub categories2\" % df_train['category_sub2'].nunique())"
   ]
  },
  {
   "cell_type": "markdown",
   "metadata": {},
   "source": [
    "Top 10 main categories"
   ]
  },
  {
   "cell_type": "code",
   "execution_count": 21,
   "metadata": {},
   "outputs": [
    {
     "data": {
      "image/png": "[encoded data removed]",
      "text/plain": [
       "<Figure size 1224x720 with 1 Axes>"
      ]
     },
     "metadata": {
      "needs_background": "light"
     },
     "output_type": "display_data"
    }
   ],
   "source": [
    "plt.figure(figsize=(17,10))\n",
    "sns.countplot(y = df_train['category_main'], order = df_train['category_main'].value_counts().index, orient = 'v')\n",
    "plt.title('Top 10 Main Categories', fontsize = 25)\n",
    "plt.ylabel('Main Category', fontsize = 20)\n",
    "plt.xlabel('Number of Items')\n",
    "plt.show()"
   ]
  },
  {
   "cell_type": "code",
   "execution_count": 22,
   "metadata": {},
   "outputs": [
    {
     "data": {
      "text/plain": [
       "Women                     0.448139\n",
       "Beauty                    0.140197\n",
       "Kids                      0.115786\n",
       "Electronics               0.080705\n",
       "Men                       0.062964\n",
       "Home                      0.045780\n",
       "Other                     0.037814\n",
       "Vintage & Collectibles    0.031397\n",
       "Handmade                  0.020810\n",
       "Sports & Outdoors         0.016408\n",
       "Name: category_main, dtype: float64"
      ]
     },
     "execution_count": 22,
     "metadata": {},
     "output_type": "execute_result"
    }
   ],
   "source": [
    "df_train['category_main'].value_counts()/len(df_train['category_main'])"
   ]
  },
  {
   "cell_type": "markdown",
   "metadata": {},
   "source": [
    "We can see that the Women and Beauty make up to the top 2 categries. This can be utilized for targeted marketing in a way."
   ]
  },
  {
   "cell_type": "markdown",
   "metadata": {},
   "source": [
    "#### Brand Name Analysis"
   ]
  },
  {
   "cell_type": "markdown",
   "metadata": {},
   "source": [
    "Top 20 Brand distribution:"
   ]
  },
  {
   "cell_type": "code",
   "execution_count": 23,
   "metadata": {},
   "outputs": [
    {
     "data": {
      "image/png": "[encoded data removed]",
      "text/plain": [
       "<Figure size 432x288 with 1 Axes>"
      ]
     },
     "metadata": {
      "needs_background": "light"
     },
     "output_type": "display_data"
    }
   ],
   "source": [
    "# Top 20 Brand Distribution\n",
    "b20 = df_train['brand_name'].value_counts()[1:20].reset_index().rename(columns={'index': 'brand_name', 'brand_name':'count'})\n",
    "ax = sns.barplot(x=\"brand_name\", y=\"count\", data=b20)\n",
    "ax.set_xticklabels(ax.get_xticklabels(),rotation=90)\n",
    "ax.set_title('Top 20 Brand Distribution', fontsize=15)\n",
    "plt.show()"
   ]
  },
  {
   "cell_type": "markdown",
   "metadata": {},
   "source": [
    "Top 20 expensive brands:"
   ]
  },
  {
   "cell_type": "code",
   "execution_count": 24,
   "metadata": {},
   "outputs": [
    {
     "data": {
      "image/png": "[encoded data removed]",
      "text/plain": [
       "<Figure size 432x288 with 1 Axes>"
      ]
     },
     "metadata": {
      "needs_background": "light"
     },
     "output_type": "display_data"
    }
   ],
   "source": [
    "top_20_exp_brand = pd.DataFrame(df_train.groupby(['brand_name'],as_index=True).std().price.sort_values(ascending=False)[0:20]).reset_index()\n",
    "ax = sns.barplot(x=\"brand_name\", y=\"price\", data=top_20_exp_brand)\n",
    "ax.set_xticklabels(ax.get_xticklabels(),rotation=90)\n",
    "ax.set_title('Top 20 Expensive Brand Distribution', fontsize=15)\n",
    "plt.show()"
   ]
  },
  {
   "cell_type": "markdown",
   "metadata": {},
   "source": [
    "#### Item desciption analysis"
   ]
  },
  {
   "cell_type": "markdown",
   "metadata": {},
   "source": [
    "Seeing if the length of the item description has any impact on the price:"
   ]
  },
  {
   "cell_type": "code",
   "execution_count": 25,
   "metadata": {},
   "outputs": [
    {
     "data": {
      "text/html": [
       "<div>\n",
       "<style scoped>\n",
       "    .dataframe tbody tr th:only-of-type {\n",
       "        vertical-align: middle;\n",
       "    }\n",
       "\n",
       "    .dataframe tbody tr th {\n",
       "        vertical-align: top;\n",
       "    }\n",
       "\n",
       "    .dataframe thead th {\n",
       "        text-align: right;\n",
       "    }\n",
       "</style>\n",
       "<table border=\"1\" class=\"dataframe\">\n",
       "  <thead>\n",
       "    <tr style=\"text-align: right;\">\n",
       "      <th></th>\n",
       "      <th>item_description</th>\n",
       "      <th>price</th>\n",
       "      <th>count</th>\n",
       "    </tr>\n",
       "  </thead>\n",
       "  <tbody>\n",
       "    <tr>\n",
       "      <th>0</th>\n",
       "      <td>No description yet</td>\n",
       "      <td>10.0</td>\n",
       "      <td>18</td>\n",
       "    </tr>\n",
       "    <tr>\n",
       "      <th>1</th>\n",
       "      <td>This keyboard is in great condition and works ...</td>\n",
       "      <td>52.0</td>\n",
       "      <td>188</td>\n",
       "    </tr>\n",
       "    <tr>\n",
       "      <th>2</th>\n",
       "      <td>Adorable top with a hint of lace and a key hol...</td>\n",
       "      <td>10.0</td>\n",
       "      <td>124</td>\n",
       "    </tr>\n",
       "    <tr>\n",
       "      <th>3</th>\n",
       "      <td>New with tags. Leather horses. Retail for [rm]...</td>\n",
       "      <td>35.0</td>\n",
       "      <td>173</td>\n",
       "    </tr>\n",
       "    <tr>\n",
       "      <th>4</th>\n",
       "      <td>Complete with certificate of authenticity</td>\n",
       "      <td>44.0</td>\n",
       "      <td>41</td>\n",
       "    </tr>\n",
       "  </tbody>\n",
       "</table>\n",
       "</div>"
      ],
      "text/plain": [
       "                                    item_description  price  count\n",
       "0                                 No description yet   10.0     18\n",
       "1  This keyboard is in great condition and works ...   52.0    188\n",
       "2  Adorable top with a hint of lace and a key hol...   10.0    124\n",
       "3  New with tags. Leather horses. Retail for [rm]...   35.0    173\n",
       "4          Complete with certificate of authenticity   44.0     41"
      ]
     },
     "execution_count": 25,
     "metadata": {},
     "output_type": "execute_result"
    }
   ],
   "source": [
    "df_train.item_description = df_train['item_description'].astype(str)\n",
    "\n",
    "descr = df_train[['item_description', 'price']]\n",
    "descr['count'] = descr['item_description'].apply(lambda x : len(str(x)))\n",
    "descr.head()"
   ]
  },
  {
   "cell_type": "code",
   "execution_count": 26,
   "metadata": {},
   "outputs": [
    {
     "data": {
      "image/png": "[encoded data removed]",
      "text/plain": [
       "<Figure size 432x288 with 1 Axes>"
      ]
     },
     "metadata": {
      "needs_background": "light"
     },
     "output_type": "display_data"
    }
   ],
   "source": [
    "df = descr.groupby('count')['price'].mean().reset_index()\n",
    "sns.regplot(x=df[\"count\"], y=(df[\"price\"]))\n",
    "plt.xlabel(\"word count\")\n",
    "plt.show()"
   ]
  },
  {
   "cell_type": "markdown",
   "metadata": {},
   "source": [
    "#### Defining RMSLE (loss function):"
   ]
  },
  {
   "cell_type": "code",
   "execution_count": 27,
   "metadata": {},
   "outputs": [],
   "source": [
    "import math\n",
    "\n",
    "#A function to calculate Root Mean Squared Logarithmic Error (RMSLE)\n",
    "def rmsle(y, y_pred):\n",
    "    assert len(y) == len(y_pred)\n",
    "    terms_to_sum = [(math.log(y_pred[i] + 1) - math.log(y[i] + 1)) ** 2.0 for i,pred in enumerate(y_pred)]\n",
    "    return (sum(terms_to_sum) * (1.0/len(y))) ** 0.5"
   ]
  },
  {
   "cell_type": "markdown",
   "metadata": {},
   "source": [
    "## Text Processing\n",
    "***\n",
    "\n",
    "- **Normalization**\n",
    "  - Removing Punctuations/ Stop Words/ lowercasing the words/ Stemming or lemmatizing the words etc.\n",
    "   \n",
    "- **Tokenization/ Bag of words modeling**\n",
    "  - Using Ngrams to preserve local ordering of words to improve model performance.\n",
    "   \n",
    "- **Vectorization/ Scoring words**\n",
    "  - Reducing text to a vector using CountVectorizer/TF-IDF/LabelBinarizer"
   ]
  },
  {
   "cell_type": "markdown",
   "metadata": {},
   "source": [
    "#### Normalizing:"
   ]
  },
  {
   "cell_type": "code",
   "execution_count": 28,
   "metadata": {},
   "outputs": [
    {
     "data": {
      "text/plain": [
       "'!\"#$%&\\'()*+,-./:;<=>?@[\\\\]^_`{|}~'"
      ]
     },
     "execution_count": 28,
     "metadata": {},
     "output_type": "execute_result"
    }
   ],
   "source": [
    "from string import punctuation\n",
    "punctuation"
   ]
  },
  {
   "cell_type": "code",
   "execution_count": 29,
   "metadata": {},
   "outputs": [
    {
     "data": {
      "text/plain": [
       "[('!', ''),\n",
       " ('\"', ''),\n",
       " ('#', ''),\n",
       " ('$', ''),\n",
       " ('%', ''),\n",
       " ('&', ''),\n",
       " (\"'\", ''),\n",
       " ('(', ''),\n",
       " (')', ''),\n",
       " ('*', ''),\n",
       " ('+', ''),\n",
       " (',', ''),\n",
       " ('-', ''),\n",
       " ('.', ''),\n",
       " ('/', ''),\n",
       " (':', ''),\n",
       " (';', ''),\n",
       " ('<', ''),\n",
       " ('=', ''),\n",
       " ('>', ''),\n",
       " ('?', ''),\n",
       " ('@', ''),\n",
       " ('[', ''),\n",
       " ('\\\\', ''),\n",
       " (']', ''),\n",
       " ('^', ''),\n",
       " ('_', ''),\n",
       " ('`', ''),\n",
       " ('{', ''),\n",
       " ('|', ''),\n",
       " ('}', ''),\n",
       " ('~', '')]"
      ]
     },
     "execution_count": 29,
     "metadata": {},
     "output_type": "execute_result"
    }
   ],
   "source": [
    "# Create a list of punctuation replacements\n",
    "punctuation_symbols = []\n",
    "for symbol in punctuation:\n",
    "    punctuation_symbols.append((symbol, ''))\n",
    "    \n",
    "punctuation_symbols"
   ]
  },
  {
   "cell_type": "code",
   "execution_count": 30,
   "metadata": {},
   "outputs": [],
   "source": [
    "import nltk"
   ]
  },
  {
   "cell_type": "code",
   "execution_count": 31,
   "metadata": {},
   "outputs": [
    {
     "data": {
      "text/plain": [
       "['i',\n",
       " 'me',\n",
       " 'my',\n",
       " 'myself',\n",
       " 'we',\n",
       " 'our',\n",
       " 'ours',\n",
       " 'ourselves',\n",
       " 'you',\n",
       " \"you're\",\n",
       " \"you've\",\n",
       " \"you'll\",\n",
       " \"you'd\",\n",
       " 'your',\n",
       " 'yours',\n",
       " 'yourself',\n",
       " 'yourselves',\n",
       " 'he',\n",
       " 'him',\n",
       " 'his',\n",
       " 'himself',\n",
       " 'she',\n",
       " \"she's\",\n",
       " 'her',\n",
       " 'hers',\n",
       " 'herself',\n",
       " 'it',\n",
       " \"it's\",\n",
       " 'its',\n",
       " 'itself',\n",
       " 'they',\n",
       " 'them',\n",
       " 'their',\n",
       " 'theirs',\n",
       " 'themselves',\n",
       " 'what',\n",
       " 'which',\n",
       " 'who',\n",
       " 'whom',\n",
       " 'this',\n",
       " 'that',\n",
       " \"that'll\",\n",
       " 'these',\n",
       " 'those',\n",
       " 'am',\n",
       " 'is',\n",
       " 'are',\n",
       " 'was',\n",
       " 'were',\n",
       " 'be',\n",
       " 'been',\n",
       " 'being',\n",
       " 'have',\n",
       " 'has',\n",
       " 'had',\n",
       " 'having',\n",
       " 'do',\n",
       " 'does',\n",
       " 'did',\n",
       " 'doing',\n",
       " 'a',\n",
       " 'an',\n",
       " 'the',\n",
       " 'and',\n",
       " 'but',\n",
       " 'if',\n",
       " 'or',\n",
       " 'because',\n",
       " 'as',\n",
       " 'until',\n",
       " 'while',\n",
       " 'of',\n",
       " 'at',\n",
       " 'by',\n",
       " 'for',\n",
       " 'with',\n",
       " 'about',\n",
       " 'against',\n",
       " 'between',\n",
       " 'into',\n",
       " 'through',\n",
       " 'during',\n",
       " 'before',\n",
       " 'after',\n",
       " 'above',\n",
       " 'below',\n",
       " 'to',\n",
       " 'from',\n",
       " 'up',\n",
       " 'down',\n",
       " 'in',\n",
       " 'out',\n",
       " 'on',\n",
       " 'off',\n",
       " 'over',\n",
       " 'under',\n",
       " 'again',\n",
       " 'further',\n",
       " 'then',\n",
       " 'once',\n",
       " 'here',\n",
       " 'there',\n",
       " 'when',\n",
       " 'where',\n",
       " 'why',\n",
       " 'how',\n",
       " 'all',\n",
       " 'any',\n",
       " 'both',\n",
       " 'each',\n",
       " 'few',\n",
       " 'more',\n",
       " 'most',\n",
       " 'other',\n",
       " 'some',\n",
       " 'such',\n",
       " 'no',\n",
       " 'nor',\n",
       " 'not',\n",
       " 'only',\n",
       " 'own',\n",
       " 'same',\n",
       " 'so',\n",
       " 'than',\n",
       " 'too',\n",
       " 'very',\n",
       " 's',\n",
       " 't',\n",
       " 'can',\n",
       " 'will',\n",
       " 'just',\n",
       " 'don',\n",
       " \"don't\",\n",
       " 'should',\n",
       " \"should've\",\n",
       " 'now',\n",
       " 'd',\n",
       " 'll',\n",
       " 'm',\n",
       " 'o',\n",
       " 're',\n",
       " 've',\n",
       " 'y',\n",
       " 'ain',\n",
       " 'aren',\n",
       " \"aren't\",\n",
       " 'couldn',\n",
       " \"couldn't\",\n",
       " 'didn',\n",
       " \"didn't\",\n",
       " 'doesn',\n",
       " \"doesn't\",\n",
       " 'hadn',\n",
       " \"hadn't\",\n",
       " 'hasn',\n",
       " \"hasn't\",\n",
       " 'haven',\n",
       " \"haven't\",\n",
       " 'isn',\n",
       " \"isn't\",\n",
       " 'ma',\n",
       " 'mightn',\n",
       " \"mightn't\",\n",
       " 'mustn',\n",
       " \"mustn't\",\n",
       " 'needn',\n",
       " \"needn't\",\n",
       " 'shan',\n",
       " \"shan't\",\n",
       " 'shouldn',\n",
       " \"shouldn't\",\n",
       " 'wasn',\n",
       " \"wasn't\",\n",
       " 'weren',\n",
       " \"weren't\",\n",
       " 'won',\n",
       " \"won't\",\n",
       " 'wouldn',\n",
       " \"wouldn't\"]"
      ]
     },
     "execution_count": 31,
     "metadata": {},
     "output_type": "execute_result"
    }
   ],
   "source": [
    "#List of Stop words\n",
    "\n",
    "# Examine list of stop words\n",
    "from nltk.corpus import stopwords\n",
    "stop = stopwords.words('english')\n",
    "stop"
   ]
  },
  {
   "cell_type": "markdown",
   "metadata": {},
   "source": [
    "Create Functions to Normalize the Words:"
   ]
  },
  {
   "cell_type": "code",
   "execution_count": 32,
   "metadata": {},
   "outputs": [],
   "source": [
    "import string\n",
    "\n",
    "# Create a function to remove punctuations\n",
    "def remove_punctuation(sentence: str) -> str:\n",
    "    return sentence.translate(str.maketrans('', '', string.punctuation))\n",
    "\n",
    "# Create a function to remove stop words\n",
    "def remove_stop_words(x):\n",
    "    x = ' '.join([i for i in x.lower().split(' ') if i not in stop])\n",
    "    return x\n",
    "\n",
    "# Create a function to lowercase the words\n",
    "def to_lower(x):\n",
    "    return x.lower()"
   ]
  },
  {
   "cell_type": "markdown",
   "metadata": {},
   "source": [
    "Reducing the number of records for easier calculations."
   ]
  },
  {
   "cell_type": "code",
   "execution_count": 33,
   "metadata": {},
   "outputs": [
    {
     "data": {
      "text/plain": [
       "(296332, 11)"
      ]
     },
     "execution_count": 33,
     "metadata": {},
     "output_type": "execute_result"
    }
   ],
   "source": [
    "df_train_reduced = df_train.sample(frac=0.2).reset_index(drop=True)\n",
    "df_train_reduced.shape"
   ]
  },
  {
   "cell_type": "markdown",
   "metadata": {},
   "source": [
    "Apply normalizing functions"
   ]
  },
  {
   "cell_type": "code",
   "execution_count": 34,
   "metadata": {},
   "outputs": [],
   "source": [
    "# Stem the Words\n",
    "from nltk.stem.porter import PorterStemmer\n",
    "porter = PorterStemmer()\n",
    "df_train_reduced['item_description'] = df_train_reduced['item_description'].apply(porter.stem)\n",
    "\n",
    "df_train_reduced['item_description'] = df_train_reduced['item_description'].apply(remove_punctuation)\n",
    "df_train_reduced['item_description'] = df_train_reduced['item_description'].apply(remove_stop_words)\n",
    "df_train_reduced['item_description'] = df_train_reduced['item_description'].apply(to_lower)\n",
    "\n",
    "df_train_reduced['name'] = df_train_reduced['name'].apply(remove_punctuation)\n",
    "df_train_reduced['name'] = df_train_reduced['name'].apply(remove_stop_words)\n",
    "df_train_reduced['name'] = df_train_reduced['name'].apply(to_lower)"
   ]
  },
  {
   "cell_type": "markdown",
   "metadata": {},
   "source": [
    "#### Vectorization: \n",
    "\n",
    "Each word in our feature space can have different frequency weights\n",
    "- Frequency Weight\n",
    "- TF-IDF Weight\n",
    "- Binary\n",
    "\n",
    "**CountVectorizer**: Returns an encoded vector with integer count for each word\n",
    "\n",
    "**TF-IDF(min_df, max_df, n-gram)**: This is to capture rarity of the word. Returns encoded vector with weighted count for each word (utilizes the word in the document in corresponsdence to the whole corpus, to keep it short, more emphasis on the rarity of a word).  This is good because we want to find frequent terms from that document that isn't so frequent within the whole document corpus.\n",
    "\n",
    "**LabelBinarizer**: Get's all the word and assigns it to its own column. 0 means it's there and 1 means not (example with brand names)"
   ]
  },
  {
   "cell_type": "markdown",
   "metadata": {},
   "source": [
    "Applying CountVectorizer on Name, Main category and sub categories"
   ]
  },
  {
   "cell_type": "code",
   "execution_count": 35,
   "metadata": {},
   "outputs": [],
   "source": [
    "from sklearn.feature_extraction.text import CountVectorizer as cv,TfidfVectorizer"
   ]
  },
  {
   "cell_type": "code",
   "execution_count": 36,
   "metadata": {},
   "outputs": [],
   "source": [
    "# CountVectorizer - name & categories\n",
    "cv = CountVectorizer(min_df=10)\n",
    "X_name = cv.fit_transform(df_train_reduced['name'])\n",
    "X_category_main = cv.fit_transform(df_train_reduced['category_main'])\n",
    "X_category_sub1 = cv.fit_transform(df_train_reduced['category_sub1'])\n",
    "X_category_sub2 = cv.fit_transform(df_train_reduced['category_sub2'])"
   ]
  },
  {
   "cell_type": "markdown",
   "metadata": {},
   "source": [
    "Function to reduce the columns from Vectorizaion process:"
   ]
  },
  {
   "cell_type": "code",
   "execution_count": 37,
   "metadata": {},
   "outputs": [],
   "source": [
    "from collections import Counter\n",
    "\n",
    "def reducecolumns(Col):\n",
    "    # remove columns with <= 1% non-zero entries (arbitrary choice so that notebook doesn't crash)\n",
    "    n_docs = Counter(Col.nonzero()[1])\n",
    "    cols_to_keep = [k for k, v in n_docs.items() if v > .0005 * Col.shape[0]]\n",
    "    return Col[:, cols_to_keep]"
   ]
  },
  {
   "cell_type": "code",
   "execution_count": 38,
   "metadata": {},
   "outputs": [
    {
     "name": "stdout",
     "output_type": "stream",
     "text": [
      "Item Name Shape: (296332, 1211)\n",
      "Category Main Shape: (296332, 12)\n",
      "Category Sub1 Shape: (296332, 106)\n",
      "Category Sub2 Shape: (296332, 316)\n"
     ]
    }
   ],
   "source": [
    "print(\"Item Name Shape: \" + str(reducecolumns(X_name).shape))\n",
    "print(\"Category Main Shape: \" + str(reducecolumns(X_category_main).shape))\n",
    "print(\"Category Sub1 Shape: \" + str(reducecolumns(X_category_sub1).shape))\n",
    "print(\"Category Sub2 Shape: \" + str(reducecolumns(X_category_sub2).shape))"
   ]
  },
  {
   "cell_type": "markdown",
   "metadata": {},
   "source": [
    "#### LabelBinarizer"
   ]
  },
  {
   "cell_type": "markdown",
   "metadata": {},
   "source": [
    "Apply LabelBinarizer to \"brand_name\""
   ]
  },
  {
   "cell_type": "code",
   "execution_count": 39,
   "metadata": {},
   "outputs": [],
   "source": [
    "lb = LabelBinarizer(sparse_output=True)\n",
    "X_brand = lb.fit_transform(df_train_reduced['brand_name'])"
   ]
  },
  {
   "cell_type": "code",
   "execution_count": 40,
   "metadata": {},
   "outputs": [
    {
     "name": "stdout",
     "output_type": "stream",
     "text": [
      "Brand Shape: (296332, 171)\n"
     ]
    }
   ],
   "source": [
    "print(\"Brand Shape: \" + str(reducecolumns(X_brand).shape))"
   ]
  },
  {
   "cell_type": "markdown",
   "metadata": {},
   "source": [
    "#### GetDummies"
   ]
  },
  {
   "cell_type": "markdown",
   "metadata": {},
   "source": [
    "Applying get dummies on on item_condition_id and shipping"
   ]
  },
  {
   "cell_type": "code",
   "execution_count": 41,
   "metadata": {},
   "outputs": [
    {
     "data": {
      "text/plain": [
       "1    128420\n",
       "3     85753\n",
       "2     75234\n",
       "4      6455\n",
       "5       470\n",
       "Name: item_condition_id, dtype: int64"
      ]
     },
     "execution_count": 41,
     "metadata": {},
     "output_type": "execute_result"
    }
   ],
   "source": [
    "df_train_reduced['item_condition_id'].value_counts()"
   ]
  },
  {
   "cell_type": "code",
   "execution_count": 42,
   "metadata": {},
   "outputs": [
    {
     "data": {
      "text/plain": [
       "0    163873\n",
       "1    132459\n",
       "Name: shipping, dtype: int64"
      ]
     },
     "execution_count": 42,
     "metadata": {},
     "output_type": "execute_result"
    }
   ],
   "source": [
    "df_train_reduced['shipping'].value_counts()"
   ]
  },
  {
   "cell_type": "code",
   "execution_count": 43,
   "metadata": {},
   "outputs": [
    {
     "data": {
      "text/plain": [
       "(296332, 2)"
      ]
     },
     "execution_count": 43,
     "metadata": {},
     "output_type": "execute_result"
    }
   ],
   "source": [
    "df_train_reduced[['item_condition_id','shipping']].shape"
   ]
  },
  {
   "cell_type": "code",
   "execution_count": 44,
   "metadata": {},
   "outputs": [],
   "source": [
    "X_dummies = csr_matrix(pd.get_dummies(df_train_reduced[['item_condition_id', 'shipping']], sparse=True).values)"
   ]
  },
  {
   "cell_type": "code",
   "execution_count": 45,
   "metadata": {},
   "outputs": [
    {
     "data": {
      "text/plain": [
       "(296332, 2)"
      ]
     },
     "execution_count": 45,
     "metadata": {},
     "output_type": "execute_result"
    }
   ],
   "source": [
    "X_dummies.shape"
   ]
  },
  {
   "cell_type": "markdown",
   "metadata": {},
   "source": [
    "#### TFIDF\n",
    "**Main Goal:** Measure how important a word or phrase is within a collection of documents. It essentially **weigh down** terms that appear frequently and **scale up** unique terms.\n",
    "\n",
    "**TF Term Frequency** how often a term occurs \n",
    "\n",
    "**IDF Inverse Document Frequency** how important a term is\n",
    "\n",
    "- Important Parameters\n",
    "1. ngram_range \n",
    "2. stop_words \n",
    "3. lowercase \n",
    "4. max_df - max threshold that will ignore a term that has a document frequency higher than the threshold\n",
    "5. min_df - min threshold that will ignore a term that has a document frequency lower than the threshold\n",
    "6. max_features - gets the assigned amount of features with highest amount of term frequencies (scores)\n"
   ]
  },
  {
   "cell_type": "code",
   "execution_count": 46,
   "metadata": {},
   "outputs": [],
   "source": [
    "# Perform a TFIDF Transformation of the item description with the top 55000 features and has an n-gram range of 1-2\n",
    "tv = TfidfVectorizer(max_features=55000, ngram_range=(1, 2), stop_words='english')\n",
    "X_description = tv.fit_transform(df_train_reduced['item_description'])"
   ]
  },
  {
   "cell_type": "code",
   "execution_count": 47,
   "metadata": {},
   "outputs": [
    {
     "name": "stdout",
     "output_type": "stream",
     "text": [
      "Item Description Shape: (296332, 5099)\n"
     ]
    }
   ],
   "source": [
    "print(\"Item Description Shape: \" + str(reducecolumns(X_description).shape))"
   ]
  },
  {
   "cell_type": "markdown",
   "metadata": {},
   "source": [
    "Observing tfidf weights:"
   ]
  },
  {
   "cell_type": "code",
   "execution_count": 48,
   "metadata": {},
   "outputs": [
    {
     "data": {
      "text/html": [
       "<div>\n",
       "<style scoped>\n",
       "    .dataframe tbody tr th:only-of-type {\n",
       "        vertical-align: middle;\n",
       "    }\n",
       "\n",
       "    .dataframe tbody tr th {\n",
       "        vertical-align: top;\n",
       "    }\n",
       "\n",
       "    .dataframe thead th {\n",
       "        text-align: right;\n",
       "    }\n",
       "</style>\n",
       "<table border=\"1\" class=\"dataframe\">\n",
       "  <thead>\n",
       "    <tr style=\"text-align: right;\">\n",
       "      <th></th>\n",
       "      <th>tfidf_weights</th>\n",
       "    </tr>\n",
       "  </thead>\n",
       "  <tbody>\n",
       "    <tr>\n",
       "      <th>new</th>\n",
       "      <td>2.184026</td>\n",
       "    </tr>\n",
       "    <tr>\n",
       "      <th>size</th>\n",
       "      <td>2.350422</td>\n",
       "    </tr>\n",
       "    <tr>\n",
       "      <th>brand</th>\n",
       "      <td>2.756624</td>\n",
       "    </tr>\n",
       "    <tr>\n",
       "      <th>brand new</th>\n",
       "      <td>2.881272</td>\n",
       "    </tr>\n",
       "    <tr>\n",
       "      <th>condition</th>\n",
       "      <td>2.926523</td>\n",
       "    </tr>\n",
       "    <tr>\n",
       "      <th>free</th>\n",
       "      <td>2.928309</td>\n",
       "    </tr>\n",
       "    <tr>\n",
       "      <th>worn</th>\n",
       "      <td>3.113061</td>\n",
       "    </tr>\n",
       "    <tr>\n",
       "      <th>used</th>\n",
       "      <td>3.218710</td>\n",
       "    </tr>\n",
       "    <tr>\n",
       "      <th>shipping</th>\n",
       "      <td>3.224936</td>\n",
       "    </tr>\n",
       "    <tr>\n",
       "      <th>great</th>\n",
       "      <td>3.348233</td>\n",
       "    </tr>\n",
       "  </tbody>\n",
       "</table>\n",
       "</div>"
      ],
      "text/plain": [
       "           tfidf_weights\n",
       "new             2.184026\n",
       "size            2.350422\n",
       "brand           2.756624\n",
       "brand new       2.881272\n",
       "condition       2.926523\n",
       "free            2.928309\n",
       "worn            3.113061\n",
       "used            3.218710\n",
       "shipping        3.224936\n",
       "great           3.348233"
      ]
     },
     "execution_count": 48,
     "metadata": {},
     "output_type": "execute_result"
    }
   ],
   "source": [
    "tfidf_weights = dict(zip(tv.get_feature_names(), tv.idf_))\n",
    "tfidf_weights = pd.DataFrame(columns = ['tfidf_weights']).from_dict(dict(tfidf_weights), orient = 'index')\n",
    "tfidf_weights.columns = ['tfidf_weights']\n",
    "\n",
    "#Lowest tfidf scores -  Highest frequency words that get most importance:\n",
    "tfidf_weights.sort_values(by=['tfidf_weights'], ascending=True).head(10)"
   ]
  },
  {
   "cell_type": "code",
   "execution_count": 49,
   "metadata": {},
   "outputs": [
    {
     "data": {
      "text/html": [
       "<div>\n",
       "<style scoped>\n",
       "    .dataframe tbody tr th:only-of-type {\n",
       "        vertical-align: middle;\n",
       "    }\n",
       "\n",
       "    .dataframe tbody tr th {\n",
       "        vertical-align: top;\n",
       "    }\n",
       "\n",
       "    .dataframe thead th {\n",
       "        text-align: right;\n",
       "    }\n",
       "</style>\n",
       "<table border=\"1\" class=\"dataframe\">\n",
       "  <thead>\n",
       "    <tr style=\"text-align: right;\">\n",
       "      <th></th>\n",
       "      <th>tfidf_weights</th>\n",
       "    </tr>\n",
       "  </thead>\n",
       "  <tbody>\n",
       "    <tr>\n",
       "      <th>silicone double</th>\n",
       "      <td>12.906092</td>\n",
       "    </tr>\n",
       "    <tr>\n",
       "      <th>printer hp</th>\n",
       "      <td>12.500627</td>\n",
       "    </tr>\n",
       "    <tr>\n",
       "      <th>flare rm</th>\n",
       "      <td>12.500627</td>\n",
       "    </tr>\n",
       "    <tr>\n",
       "      <th>cubes left</th>\n",
       "      <td>12.500627</td>\n",
       "    </tr>\n",
       "    <tr>\n",
       "      <th>turned nails</th>\n",
       "      <td>12.500627</td>\n",
       "    </tr>\n",
       "    <tr>\n",
       "      <th>rm bowls</th>\n",
       "      <td>12.500627</td>\n",
       "    </tr>\n",
       "    <tr>\n",
       "      <th>china slim</th>\n",
       "      <td>12.212945</td>\n",
       "    </tr>\n",
       "    <tr>\n",
       "      <th>expdate</th>\n",
       "      <td>12.212945</td>\n",
       "    </tr>\n",
       "    <tr>\n",
       "      <th>hp deskjet</th>\n",
       "      <td>12.212945</td>\n",
       "    </tr>\n",
       "    <tr>\n",
       "      <th>evod pro</th>\n",
       "      <td>12.212945</td>\n",
       "    </tr>\n",
       "  </tbody>\n",
       "</table>\n",
       "</div>"
      ],
      "text/plain": [
       "                 tfidf_weights\n",
       "silicone double      12.906092\n",
       "printer hp           12.500627\n",
       "flare rm             12.500627\n",
       "cubes left           12.500627\n",
       "turned nails         12.500627\n",
       "rm bowls             12.500627\n",
       "china slim           12.212945\n",
       "expdate              12.212945\n",
       "hp deskjet           12.212945\n",
       "evod pro             12.212945"
      ]
     },
     "execution_count": 49,
     "metadata": {},
     "output_type": "execute_result"
    }
   ],
   "source": [
    "#Hightest tfidf scores - Rare words that get most importance:\n",
    "tfidf_weights.sort_values(by=['tfidf_weights'], ascending=False).head(10)"
   ]
  },
  {
   "cell_type": "markdown",
   "metadata": {},
   "source": [
    "#### Combine All Features Into One Merge"
   ]
  },
  {
   "cell_type": "markdown",
   "metadata": {},
   "source": [
    "Sparse matrix is used specially when we want to minimize memory storage/ when there are lot of zeros from one hot encoding and for faster computation. It only performs operations for non-zero elements."
   ]
  },
  {
   "cell_type": "code",
   "execution_count": 50,
   "metadata": {},
   "outputs": [
    {
     "name": "stdout",
     "output_type": "stream",
     "text": [
      "(296332, 6917)\n"
     ]
    }
   ],
   "source": [
    "# Combine everything together using Sparse matrix\n",
    "sparse_merge = hstack((X_dummies, reducecolumns(X_description), reducecolumns(X_brand), reducecolumns(X_name), reducecolumns(X_category_main), reducecolumns(X_category_sub1), reducecolumns(X_category_sub2))).tocsr()\n",
    "\n",
    "print(sparse_merge.shape)"
   ]
  },
  {
   "cell_type": "code",
   "execution_count": 51,
   "metadata": {},
   "outputs": [
    {
     "name": "stdout",
     "output_type": "stream",
     "text": [
      "(296332,)\n"
     ]
    }
   ],
   "source": [
    "target = np.log(df_train_reduced['price']+1)\n",
    "\n",
    "print(target.shape)"
   ]
  },
  {
   "cell_type": "markdown",
   "metadata": {},
   "source": [
    "Removing columns with <= 1% non-zero entries (arbitrary choice so that notebook doesn't crash):"
   ]
  },
  {
   "cell_type": "code",
   "execution_count": 52,
   "metadata": {},
   "outputs": [],
   "source": [
    "from collections import Counter\n",
    "\n",
    "n_docs = Counter(sparse_merge.nonzero()[1])\n",
    "cols_to_keep = [k for k, v in n_docs.items() if v > .0005 * sparse_merge.shape[0]]\n",
    "sparse_merge_filtered = sparse_merge[:, cols_to_keep]"
   ]
  },
  {
   "cell_type": "markdown",
   "metadata": {},
   "source": [
    "#### Spliting into train and test sets and Modeling:"
   ]
  },
  {
   "cell_type": "code",
   "execution_count": 53,
   "metadata": {},
   "outputs": [],
   "source": [
    "#Split into train and test sets\n",
    "from sklearn.model_selection import train_test_split\n",
    "features_train, features_test, target_train, target_test = train_test_split(sparse_merge, target, test_size = .35, random_state = 1)"
   ]
  },
  {
   "cell_type": "code",
   "execution_count": 54,
   "metadata": {},
   "outputs": [
    {
     "name": "stderr",
     "output_type": "stream",
     "text": [
      "Using TensorFlow backend.\n"
     ]
    }
   ],
   "source": [
    "import keras\n",
    "from keras.models import Sequential\n",
    "from keras.layers import Dense\n",
    "from keras.wrappers.scikit_learn import KerasRegressor"
   ]
  },
  {
   "cell_type": "code",
   "execution_count": 60,
   "metadata": {},
   "outputs": [],
   "source": [
    "def regressor_model():  #Keras wrapper always requires function as an argument so creating this function.\n",
    "    # Creating my model:\n",
    "    model = Sequential()\n",
    "    model.add(Dense(units = 7 ,kernel_initializer = 'uniform', activation = 'relu', input_dim = 6917))\n",
    "    model.add(Dense(1, init='uniform'))\n",
    "    # Compiling my model:\n",
    "    model.compile(loss='mean_squared_error', optimizer='adam', metrics=['mae'])\n",
    "    return model"
   ]
  },
  {
   "cell_type": "code",
   "execution_count": 61,
   "metadata": {},
   "outputs": [],
   "source": [
    "from sklearn.pipeline import Pipeline\n",
    "\n",
    "estimators = []\n",
    "estimators.append(('mlp', KerasRegressor(build_fn= regressor_model, verbose=1)))"
   ]
  },
  {
   "cell_type": "code",
   "execution_count": 68,
   "metadata": {},
   "outputs": [],
   "source": [
    "pipeline = Pipeline(estimators)"
   ]
  },
  {
   "cell_type": "code",
   "execution_count": 69,
   "metadata": {},
   "outputs": [
    {
     "name": "stdout",
     "output_type": "stream",
     "text": [
      "Epoch 1/1\n",
      "192615/192615 [==============================] - 27s 140us/step - loss: 0.5049 - mean_absolute_error: 0.4858\n"
     ]
    },
    {
     "data": {
      "text/plain": [
       "Pipeline(memory=None,\n",
       "     steps=[('mlp', <keras.wrappers.scikit_learn.KerasRegressor object at 0x000002AB483FAA58>)])"
      ]
     },
     "execution_count": 69,
     "metadata": {},
     "output_type": "execute_result"
    }
   ],
   "source": [
    "pipeline.fit(features_train.toarray(),target_train)  "
   ]
  },
  {
   "cell_type": "markdown",
   "metadata": {},
   "source": [
    "### Predictions:"
   ]
  },
  {
   "cell_type": "code",
   "execution_count": 70,
   "metadata": {},
   "outputs": [
    {
     "name": "stdout",
     "output_type": "stream",
     "text": [
      "103717/103717 [==============================] - 7s 68us/step\n"
     ]
    }
   ],
   "source": [
    "target_pred = pipeline.predict(features_test.toarray())"
   ]
  },
  {
   "cell_type": "markdown",
   "metadata": {},
   "source": [
    "With inverse log:"
   ]
  },
  {
   "cell_type": "code",
   "execution_count": 71,
   "metadata": {},
   "outputs": [
    {
     "data": {
      "text/plain": [
       "array([11.820747, 14.831993, 15.589591, ..., 21.612257, 19.033268,\n",
       "       10.730931], dtype=float32)"
      ]
     },
     "execution_count": 71,
     "metadata": {},
     "output_type": "execute_result"
    }
   ],
   "source": [
    "np.expm1(target_pred)"
   ]
  },
  {
   "cell_type": "markdown",
   "metadata": {},
   "source": [
    "## Possible enchancements:\n",
    "    - Do more feature engineering to come up with more features\n",
    "    - Try more modeling techniques and tune them for better metric.\n",
    "    - I could use decomposition techniques in order to reduce the dimensions. \n",
    "    "
   ]
  }
 ],
 "metadata": {
  "kernelspec": {
   "display_name": "Python 3",
   "language": "python",
   "name": "python3"
  },
  "language_info": {
   "codemirror_mode": {
    "name": "ipython",
    "version": 3
   },
   "file_extension": ".py",
   "mimetype": "text/x-python",
   "name": "python",
   "nbconvert_exporter": "python",
   "pygments_lexer": "ipython3",
   "version": "3.7.3"
  }
 },
 "nbformat": 4,
 "nbformat_minor": 2
}
